{
 "cells": [
  {
   "cell_type": "markdown",
   "metadata": {},
   "source": [
    "# The Battle of Neighborhoods\n",
    "## Data Description\n",
    "### Data Source\n",
    "\n",
    "Data Link: https://en.wikipedia.org/wiki/List_of_postal_codes_of_Canada:_M \n",
    "\n",
    "In this project, I'd like to use Scarborough dataset which we scrapped from wikipedia on Week 3. Dataset consisting of latitude and longitude, zip codes.\n",
    "### Foursquare API Data:\n",
    "Foursquare provides different data information in different venues among neighborhoods. Those information includes venue names, locations, menus and even photos. The foursquare platform is to obtain the required information through the API.\n",
    "\n",
    "With the gaining information of neighborhoods, Foursquare API would gather information about venues of neighborhoods. For each neighborhood, the radius is 100 meters.\n",
    "\n",
    "Foursquare data contains venues, longitude, latitude and postcodes. The information obtained per venue as follows:\n",
    "    1. Neighborhood\n",
    "    2. Neighborhood Latitude\n",
    "    3. Neighborhood Longitude\n",
    "    4. Venue\n",
    "    5. Name of the venue e.g. the name of a store or restaurant\n",
    "    6. Venue Latitude\n",
    "    7. Venue Longitude\n",
    "    8. Venue Category"
   ]
  },
  {
   "cell_type": "code",
   "execution_count": null,
   "metadata": {},
   "outputs": [],
   "source": []
  }
 ],
 "metadata": {
  "kernelspec": {
   "display_name": "Python 3",
   "language": "python",
   "name": "python3"
  },
  "language_info": {
   "codemirror_mode": {
    "name": "ipython",
    "version": 3
   },
   "file_extension": ".py",
   "mimetype": "text/x-python",
   "name": "python",
   "nbconvert_exporter": "python",
   "pygments_lexer": "ipython3",
   "version": "3.7.6"
  }
 },
 "nbformat": 4,
 "nbformat_minor": 4
}
