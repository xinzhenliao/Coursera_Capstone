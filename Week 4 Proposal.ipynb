{
 "cells": [
  {
   "cell_type": "markdown",
   "metadata": {},
   "source": [
    "## The Battle of Neighborhoods "
   ]
  },
  {
   "cell_type": "markdown",
   "metadata": {},
   "source": [
    "### Proposal"
   ]
  },
  {
   "cell_type": "markdown",
   "metadata": {},
   "source": [
    "### Introduction "
   ]
  },
  {
   "cell_type": "markdown",
   "metadata": {},
   "source": [
    "this project aims to find the better neighborhood environment, like pub, park or gym. With the map of Scarborough, Toranto, this project will help people to decide which neighborhood is the beneficial place compared to various participants neighborhood.\n",
    "\n",
    "For those mirgrates who need to look for better schools and good house price and some people need easy access to the bars, shops, malls, theatres, hospitals, etc.\n",
    "\n",
    "This project will analyse features for people migrating to Scarborough to search a best neighborhood. The features include median housing price and better school, lower crime rates, road connectivity, good management for emergency facilities, and recreational facilities.\n",
    "\n",
    "The result shows the analysis neighborhood of that area to assist people before moving to a new city."
   ]
  },
  {
   "cell_type": "markdown",
   "metadata": {},
   "source": [
    "### Problem Description"
   ]
  },
  {
   "cell_type": "markdown",
   "metadata": {},
   "source": [
    "1.Sorted the list of house in terms of housing prices\n",
    "\n",
    "2.Sorted the list of schools in terms of location, fees, rating and reviews"
   ]
  },
  {
   "cell_type": "markdown",
   "metadata": {},
   "source": [
    "### Map location"
   ]
  },
  {
   "cell_type": "markdown",
   "metadata": {},
   "source": [
    "The number people decide to migrate to Scarborough which is one of the most diverse and multicultural areas, like home to various religious groups in the Toronto is on the rise. So, Scarborough is a popular palce for immgration."
   ]
  },
  {
   "cell_type": "markdown",
   "metadata": {},
   "source": [
    "### Foursquare API"
   ]
  },
  {
   "cell_type": "markdown",
   "metadata": {},
   "source": [
    "In this project, I use Foursquare API as the data gathering source since its database has millions of places, whose Places API provides the function of location search, location sharing and other details."
   ]
  },
  {
   "cell_type": "markdown",
   "metadata": {},
   "source": [
    "### Work Process\n",
    "This project uses the credentials of Foursquare API features to acess the neighborhoods. As limitations of Foursquare API, the number of places per circle within a neighborhood would be set to 100 and the radius parameter would be set to 500.\n",
    "### Clustering\n",
    "To determine how similar of two cities, I plan to decide to explore the neighborhood, segement them and group them into clusters to find out the similarities of New York and Toronto. In this project, the K-means algorithm is used to do the clustering job.\n",
    "\n",
    "### Dependent Libraries \n",
    "\n",
    "Pandas: To create and edit dataframes.\n",
    "\n",
    "Folium: To visualize the neighborhood clusters distribution.\n",
    "\n",
    "Scikit Learn: To import clustering algorithms.\n",
    "\n",
    "JSON: To handle JSON files.\n",
    "\n",
    "XML: To separate data from presentation and XML stores data in plain text format.\n",
    "\n",
    "Geocoder: To retrieve location from data.\n",
    "\n",
    "Beautiful Soup and Requests: To extract data from HTML and XML.\n",
    "\n",
    "Matplotlib: To draw plots."
   ]
  },
  {
   "cell_type": "code",
   "execution_count": null,
   "metadata": {},
   "outputs": [],
   "source": []
  }
 ],
 "metadata": {
  "kernelspec": {
   "display_name": "Python 3",
   "language": "python",
   "name": "python3"
  },
  "language_info": {
   "codemirror_mode": {
    "name": "ipython",
    "version": 3
   },
   "file_extension": ".py",
   "mimetype": "text/x-python",
   "name": "python",
   "nbconvert_exporter": "python",
   "pygments_lexer": "ipython3",
   "version": "3.7.6"
  }
 },
 "nbformat": 4,
 "nbformat_minor": 4
}
